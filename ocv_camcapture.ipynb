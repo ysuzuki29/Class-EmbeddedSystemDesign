{
 "cells": [
  {
   "cell_type": "code",
   "execution_count": 1,
   "metadata": {
    "colab": {
     "base_uri": "https://localhost:8080/",
     "height": 321
    },
    "colab_type": "code",
    "executionInfo": {
     "elapsed": 677,
     "status": "error",
     "timestamp": 1556705984685,
     "user": {
      "displayName": "Yoshimi Suzuki",
      "photoUrl": "",
      "userId": "13680760369814501344"
     },
     "user_tz": -540
    },
    "id": "faSU1cFy26Oq",
    "outputId": "3b1b4e86-857a-4cd9-c322-41d1861c72a6"
   },
   "outputs": [
    {
     "ename": "TypeError",
     "evalue": "ignored",
     "output_type": "error",
     "traceback": [
      "\u001b[0;31m---------------------------------------------------------------------------\u001b[0m",
      "\u001b[0;31mTypeError\u001b[0m                                 Traceback (most recent call last)",
      "\u001b[0;32m<ipython-input-1-84557f7a3f4f>\u001b[0m in \u001b[0;36m<module>\u001b[0;34m()\u001b[0m\n\u001b[1;32m     34\u001b[0m     \u001b[0mcv2\u001b[0m\u001b[0;34m.\u001b[0m\u001b[0mdestroyAllWindows\u001b[0m\u001b[0;34m(\u001b[0m\u001b[0;34m)\u001b[0m\u001b[0;34m\u001b[0m\u001b[0;34m\u001b[0m\u001b[0m\n\u001b[1;32m     35\u001b[0m \u001b[0;34m\u001b[0m\u001b[0m\n\u001b[0;32m---> 36\u001b[0;31m \u001b[0mcapture_camera\u001b[0m\u001b[0;34m(\u001b[0m\u001b[0;34m)\u001b[0m\u001b[0;34m\u001b[0m\u001b[0;34m\u001b[0m\u001b[0m\n\u001b[0m",
      "\u001b[0;32m<ipython-input-1-84557f7a3f4f>\u001b[0m in \u001b[0;36mcapture_camera\u001b[0;34m(mirror, size)\u001b[0m\n\u001b[1;32m     14\u001b[0m         \u001b[0;31m# 鏡のように映るか否か\u001b[0m\u001b[0;34m\u001b[0m\u001b[0;34m\u001b[0m\u001b[0;34m\u001b[0m\u001b[0m\n\u001b[1;32m     15\u001b[0m         \u001b[0;32mif\u001b[0m \u001b[0mmirror\u001b[0m \u001b[0;32mis\u001b[0m \u001b[0;32mTrue\u001b[0m\u001b[0;34m:\u001b[0m\u001b[0;34m\u001b[0m\u001b[0;34m\u001b[0m\u001b[0m\n\u001b[0;32m---> 16\u001b[0;31m             \u001b[0mframe\u001b[0m \u001b[0;34m=\u001b[0m \u001b[0mframe\u001b[0m\u001b[0;34m[\u001b[0m\u001b[0;34m:\u001b[0m\u001b[0;34m,\u001b[0m\u001b[0;34m:\u001b[0m\u001b[0;34m:\u001b[0m\u001b[0;34m-\u001b[0m\u001b[0;36m1\u001b[0m\u001b[0;34m]\u001b[0m\u001b[0;34m\u001b[0m\u001b[0;34m\u001b[0m\u001b[0m\n\u001b[0m\u001b[1;32m     17\u001b[0m \u001b[0;34m\u001b[0m\u001b[0m\n\u001b[1;32m     18\u001b[0m         \u001b[0;31m# フレームをリサイズ\u001b[0m\u001b[0;34m\u001b[0m\u001b[0;34m\u001b[0m\u001b[0;34m\u001b[0m\u001b[0m\n",
      "\u001b[0;31mTypeError\u001b[0m: 'NoneType' object is not subscriptable"
     ]
    }
   ],
   "source": [
    "# -*- coding: utf-8 -*-\n",
    "import cv2\n",
    "def capture_camera(mirror=True, size=None):\n",
    "\n",
    "    filename=\"picture_from_cam.jpg\"\n",
    "\n",
    "    \"\"\"Capture video from camera\"\"\"\n",
    "# カメラをキャプチャする\n",
    "    cap = cv2.VideoCapture(0) # 0はカメラのデバイス番号\n",
    "\n",
    "    while True:\n",
    "        # retは画像を取得成功フラグ\n",
    "        ret, frame = cap.read()\n",
    "\n",
    "        # 鏡のように映るか否か\n",
    "        if mirror is True:\n",
    "            frame = frame[:,::-1]\n",
    "\n",
    "        # フレームをリサイズ\n",
    "        # sizeは例えば(800, 600)\n",
    "        if size is not None and len(size) == 2:\n",
    "            frame = cv2.resize(frame, size)\n",
    "\n",
    "        # フレームを表示する\n",
    "        cv2.imshow('camera capture', frame)\n",
    "\n",
    "        k = cv2.waitKey(1) # 1msec待つ\n",
    "        if k == 27: # ESCキーで終了\n",
    "            break\n",
    "        if k == ord('c'): \n",
    "            img_src = cv2.imwrite(filename, frame)\n",
    "\n",
    "    # キャプチャを解放する\n",
    "    cap.release()\n",
    "    cv2.destroyAllWindows()\n",
    "\n",
    "capture_camera()\n"
   ]
  },
  {
   "cell_type": "code",
   "execution_count": null,
   "metadata": {},
   "outputs": [],
   "source": []
  }
 ],
 "metadata": {
  "colab": {
   "collapsed_sections": [],
   "name": "ocv_camcapture.ipynb",
   "provenance": [],
   "version": "0.3.2"
  },
  "kernelspec": {
   "display_name": "Python 3",
   "language": "python",
   "name": "python3"
  },
  "language_info": {
   "codemirror_mode": {
    "name": "ipython",
    "version": 3
   },
   "file_extension": ".py",
   "mimetype": "text/x-python",
   "name": "python",
   "nbconvert_exporter": "python",
   "pygments_lexer": "ipython3",
   "version": "3.7.6"
  }
 },
 "nbformat": 4,
 "nbformat_minor": 1
}

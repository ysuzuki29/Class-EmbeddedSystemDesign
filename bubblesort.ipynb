{
 "cells": [
  {
   "cell_type": "markdown",
   "metadata": {
    "colab_type": "text",
    "id": "O008O37SnlVr"
   },
   "source": [
    "### bubble sort (for Quiz 4)"
   ]
  },
  {
   "cell_type": "code",
   "execution_count": 1,
   "metadata": {
    "colab": {
     "base_uri": "https://localhost:8080/",
     "height": 243
    },
    "colab_type": "code",
    "executionInfo": {
     "elapsed": 577,
     "status": "ok",
     "timestamp": 1559363988503,
     "user": {
      "displayName": "Yoshimi Suzuki",
      "photoUrl": "",
      "userId": "13680760369814501344"
     },
     "user_tz": -540
    },
    "id": "1tppUc5gc8dR",
    "outputId": "23715903-363f-43c3-c75f-4e595370fa0b"
   },
   "outputs": [
    {
     "name": "stdout",
     "output_type": "stream",
     "text": [
      "0 [9, 2, 13, 21, 3, 0]\n",
      "1 [2, 9, 13, 21, 3, 0]\n",
      "2 [2, 9, 13, 3, 21, 0]\n",
      "3 [2, 9, 13, 3, 0, 21]\n",
      "4 [2, 9, 3, 13, 0, 21]\n",
      "5 [2, 9, 3, 0, 13, 21]\n",
      "6 [2, 3, 9, 0, 13, 21]\n",
      "7 [2, 3, 0, 9, 13, 21]\n",
      "8 [2, 0, 3, 9, 13, 21]\n",
      "9 [0, 2, 3, 9, 13, 21]\n",
      "\n",
      "\n",
      "9 [0, 2, 3, 9, 13, 21]\n"
     ]
    }
   ],
   "source": [
    "# -*- coding: utf-8 -*-\n",
    "num_list=[9,2,13,21,3,0]\n",
    "count=0\n",
    "print(count, num_list)\n",
    "\n",
    "for i in range(0, len(num_list)-1):\n",
    "  for j in range(1, len(num_list)-i):\n",
    "    if num_list[j-1]>num_list[j]:\n",
    "      num_list[j-1], num_list[j] = num_list[j], num_list[j-1] #swap\n",
    "      count+=1\n",
    "      print(count, num_list)\n",
    "\n",
    "print(\"\\n\")\n",
    "print(count,num_list)    \n",
    "  "
   ]
  },
  {
   "cell_type": "code",
   "execution_count": null,
   "metadata": {},
   "outputs": [],
   "source": []
  }
 ],
 "metadata": {
  "colab": {
   "collapsed_sections": [],
   "name": "bubblesort.ipynb",
   "provenance": [],
   "version": "0.3.2"
  },
  "kernelspec": {
   "display_name": "Python 3",
   "language": "python",
   "name": "python3"
  },
  "language_info": {
   "codemirror_mode": {
    "name": "ipython",
    "version": 3
   },
   "file_extension": ".py",
   "mimetype": "text/x-python",
   "name": "python",
   "nbconvert_exporter": "python",
   "pygments_lexer": "ipython3",
   "version": "3.7.6"
  }
 },
 "nbformat": 4,
 "nbformat_minor": 1
}

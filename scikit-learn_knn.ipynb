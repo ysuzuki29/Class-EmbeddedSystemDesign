{
 "cells": [
  {
   "cell_type": "markdown",
   "metadata": {
    "colab_type": "text",
    "id": "5joas55iQakv"
   },
   "source": [
    "scikit-learn knn"
   ]
  },
  {
   "cell_type": "code",
   "execution_count": 0,
   "metadata": {
    "colab": {
     "base_uri": "https://localhost:8080/",
     "height": 573
    },
    "colab_type": "code",
    "executionInfo": {
     "elapsed": 204221,
     "status": "ok",
     "timestamp": 1556108167938,
     "user": {
      "displayName": "Yoshimi Suzuki",
      "photoUrl": "",
      "userId": "13680760369814501344"
     },
     "user_tz": -540
    },
    "id": "mD-oqTTDQY9_",
    "outputId": "1114dc06-3e61-49a0-94da-19e5553eff1c"
   },
   "outputs": [
    {
     "name": "stdout",
     "output_type": "stream",
     "text": [
      "news words\n",
      "k of kNN= 5\n",
      "[1 2]経済スポーツ\n",
      "\n",
      "digits\n",
      "k of kNN= 5\n",
      "test\n",
      "[2 9 8 5 4 4 6 4 4 9 1 2 6 2 9 1 5 4 7 6 0 8 4 3 4 9 7 6 1 5 7 5 4 4 2 3 2\n",
      " 5 9 5 5 3 4 9 9 4 6 9 8 8 4 2 5 5 3 0 7 1 1 5 3 9 2 0 9 4 4 1 4 2 9 7 9 9\n",
      " 8 4 7 6 6 7 4 3 8 4 7 6 6 7 4 2 6 8 1 5 6 5 8 7 1 0 0 5 0 9 9 5 8 1 0 9 6\n",
      " 3 0 3 3 6 4 9 3 9 9 9 9 6 0 5 5 4 7 4 6 2 9 5 2 3 1 7 3 3 0 2 1 5 1 9 4 4\n",
      " 8 1 7 1 9 2 9 1 0 9 8 6 2 1 5 0 3 0 8 8 0 0 8 9 6 3 3 3 1 2 3 7]\n",
      "predict\n",
      "[2 9 8 5 4 4 6 4 4 9 1 2 6 2 9 1 5 4 7 6 0 8 4 3 4 9 7 6 1 6 7 5 4 4 2 3 2\n",
      " 5 9 5 5 3 4 9 9 4 6 3 8 8 4 2 5 5 3 0 7 1 1 5 3 9 2 0 9 4 4 1 4 2 9 7 9 9\n",
      " 8 4 7 6 6 9 4 3 8 4 7 6 6 7 4 2 6 8 1 5 6 5 8 7 1 0 0 5 0 9 9 5 1 1 0 9 6\n",
      " 3 0 3 3 6 4 9 3 9 9 9 9 6 0 5 5 4 7 4 6 2 9 5 2 3 1 7 3 3 0 2 1 5 1 9 4 4\n",
      " 8 1 7 1 9 2 9 1 0 9 8 6 2 1 5 0 3 0 8 8 0 0 8 9 6 3 3 3 1 2 3 7]\n",
      "\n",
      "F-measure (micro average)=0.9777777777777777\n",
      "\n",
      "confusion matrix\n",
      "[[15  0  0  0  0  0  0  0  0  0]\n",
      " [ 0 17  0  0  0  0  0  0  0  0]\n",
      " [ 0  0 15  0  0  0  0  0  0  0]\n",
      " [ 0  0  0 18  0  0  0  0  0  0]\n",
      " [ 0  0  0  0 24  0  0  0  0  0]\n",
      " [ 0  0  0  0  0 18  1  0  0  0]\n",
      " [ 0  0  0  0  0  0 17  0  0  0]\n",
      " [ 0  0  0  0  0  0  0 13  0  1]\n",
      " [ 0  1  0  0  0  0  0  0 13  0]\n",
      " [ 0  0  0  1  0  0  0  0  0 26]]\n"
     ]
    }
   ],
   "source": [
    "# -*- coding: utf-8 -*-\n",
    "# usage: scikit-learn_nv.py\n",
    "import numpy as np\n",
    "from sklearn.model_selection import train_test_split\n",
    "from sklearn import neighbors\n",
    "\n",
    "print(\"news words\")\n",
    "label=([\"政治\", \"経済\", \"スポーツ\"])\n",
    "word = np.array([[0,1,0,0,1,1,1,0,0], # 政治　politics\n",
    "                 [0,2,0,0,1,1,1,0,0], \n",
    "                 [0,1,0,0,2,1,1,0,0], \n",
    "                 [0,1,0,0,1,2,1,0,0], \n",
    "                 [0,1,0,0,1,1,2,0,0], \n",
    "                 [0,3,0,0,1,1,1,0,0], \n",
    "                 [0,1,0,0,3,3,3,0,0], \n",
    "                 [0,2,0,0,2,1,1,0,0], \n",
    "                 [0,1,0,0,1,2,2,0,0], \n",
    "                 [0,2,0,0,2,2,2,0,0], \n",
    "                 [0,0,1,0,0,0,2,1,0], # 経済 economy\n",
    "                 [0,0,1,0,0,0,1,1,0], \n",
    "                 [0,0,2,0,0,0,2,1,0], \n",
    "                 [0,0,1,0,0,0,2,2,0], \n",
    "                 [0,0,2,0,0,0,2,2,0], \n",
    "                 [0,0,3,0,0,0,2,1,0], \n",
    "                 [0,0,1,0,0,0,3,1,0], \n",
    "                 [0,0,1,0,0,0,2,3,0], \n",
    "                 [0,0,3,0,0,0,2,3,0], \n",
    "                 [0,0,3,0,0,0,1,3,0], \n",
    "                 [1,0,0,1,0,0,1,0,0], # スポーツ sports\n",
    "                 [2,0,0,1,0,0,1,0,0],\n",
    "                 [1,0,0,2,0,0,1,0,0],\n",
    "                 [1,0,0,1,0,0,2,0,0],\n",
    "                 [2,0,0,2,0,0,1,0,0],\n",
    "                 [2,0,0,2,0,0,2,0,0],\n",
    "                 [3,0,0,1,0,0,1,0,0],\n",
    "                 [1,0,0,3,0,0,1,0,0],\n",
    "                 [1,0,0,1,0,0,3,0,0],\n",
    "                 [3,0,0,3,0,0,3,0,0]]) \n",
    "\n",
    "ctg = np.array([0,0,0,0,0,0,0,0,0,0,\n",
    "                1,1,1,1,1,1,1,1,1,1,\n",
    "                2,2,2,2,2,2,2,2,2,2]) # 分野のラベル category label\n",
    "\n",
    "x = np.array([[0,0,1,0,1,0,0,1,0],  # x1\n",
    "              [0,0,0,1,0,1,1,0,1]]) # x2\n",
    "\n",
    "num=int(input('k of kNN= '))\n",
    "knn=neighbors.KNeighborsClassifier(n_neighbors=num)\n",
    "knn.fit(word, ctg)\n",
    "results=knn.predict(x)\n",
    "print(results, end=\"\")\n",
    "print(label[results[0]], end=\"\")\n",
    "print(label[results[1]])\n",
    "print()\n",
    "\n",
    "###\n",
    "print(\"digits\")\n",
    "# load digits\n",
    "from sklearn.datasets import load_digits\n",
    "digits=load_digits()\n",
    "#トレーニングデータとテストデータに分割\n",
    "data_train, data_test, label_train, label_test = train_test_split(digits.data, digits.target, test_size=0.10)\n",
    "\n",
    "from sklearn.metrics import f1_score\n",
    "\n",
    "dnum=int(input('k of kNN= '))\n",
    "dknn=neighbors.KNeighborsClassifier(n_neighbors=dnum)\n",
    "dknn.fit(data_train, label_train)\n",
    "label_predict=dknn.predict(data_test)\n",
    "print(\"test\")\n",
    "print(label_test)\n",
    "print(\"predict\")\n",
    "print(label_predict)\n",
    "\n",
    "print(\"\\nF-measure (micro average)=\", end=\"\")\n",
    "print(f1_score(label_test, label_predict, average='micro'))\n",
    "print(\"\\nconfusion matrix\")\n",
    "from sklearn.metrics import confusion_matrix\n",
    "print(confusion_matrix(label_test, label_predict))\n"
   ]
  }
 ],
 "metadata": {
  "colab": {
   "collapsed_sections": [],
   "name": "scikit-learn_knn.ipynb",
   "provenance": [],
   "version": "0.3.2"
  },
  "kernelspec": {
   "display_name": "Python 3",
   "language": "python",
   "name": "python3"
  },
  "language_info": {
   "codemirror_mode": {
    "name": "ipython",
    "version": 3
   },
   "file_extension": ".py",
   "mimetype": "text/x-python",
   "name": "python",
   "nbconvert_exporter": "python",
   "pygments_lexer": "ipython3",
   "version": "3.7.6"
  }
 },
 "nbformat": 4,
 "nbformat_minor": 1
}

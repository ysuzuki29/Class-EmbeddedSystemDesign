{
 "cells": [
  {
   "cell_type": "code",
   "execution_count": 11,
   "metadata": {},
   "outputs": [
    {
     "ename": "ModuleNotFoundError",
     "evalue": "No module named 'pyaudio'",
     "output_type": "error",
     "traceback": [
      "\u001b[1;31m---------------------------------------------------------------------------\u001b[0m",
      "\u001b[1;31mModuleNotFoundError\u001b[0m                       Traceback (most recent call last)",
      "\u001b[1;32m<ipython-input-11-c4b05b82fd34>\u001b[0m in \u001b[0;36m<module>\u001b[1;34m\u001b[0m\n\u001b[0;32m      2\u001b[0m \u001b[1;32mimport\u001b[0m \u001b[0mnumpy\u001b[0m \u001b[1;32mas\u001b[0m \u001b[0mnp\u001b[0m\u001b[1;33m\u001b[0m\u001b[1;33m\u001b[0m\u001b[0m\n\u001b[0;32m      3\u001b[0m \u001b[1;32mimport\u001b[0m \u001b[0mmatplotlib\u001b[0m\u001b[1;33m.\u001b[0m\u001b[0mpyplot\u001b[0m \u001b[1;32mas\u001b[0m \u001b[0mplt\u001b[0m\u001b[1;33m\u001b[0m\u001b[1;33m\u001b[0m\u001b[0m\n\u001b[1;32m----> 4\u001b[1;33m \u001b[1;32mimport\u001b[0m \u001b[0mpyaudio\u001b[0m\u001b[1;33m\u001b[0m\u001b[1;33m\u001b[0m\u001b[0m\n\u001b[0m\u001b[0;32m      5\u001b[0m \u001b[1;33m\u001b[0m\u001b[0m\n\u001b[0;32m      6\u001b[0m \u001b[0mwf\u001b[0m \u001b[1;33m=\u001b[0m \u001b[0mwave\u001b[0m\u001b[1;33m.\u001b[0m\u001b[0mopen\u001b[0m\u001b[1;33m(\u001b[0m\u001b[1;34m\"aiueo_wavesurfer.wav\"\u001b[0m \u001b[1;33m,\u001b[0m \u001b[1;34m\"r\"\u001b[0m \u001b[1;33m)\u001b[0m\u001b[1;33m\u001b[0m\u001b[1;33m\u001b[0m\u001b[0m\n",
      "\u001b[1;31mModuleNotFoundError\u001b[0m: No module named 'pyaudio'"
     ]
    }
   ],
   "source": [
    "import wave\n",
    "import numpy as np\n",
    "import matplotlib.pyplot as plt\n",
    "import pyaudio\n",
    "\n",
    "wf = wave.open(\"aiueo_wavesurfer.wav\" , \"r\" )\n",
    "\n",
    "# getnframes: オーディオフレーム数を返す\n",
    "print(\"# of frames=\", wf.getnframes())\n",
    "\n",
    "# getnchannels: モノラル＝１，ステレオ＝２\n",
    "print(\"# of channels=\", wf.getnchannels())\n",
    "\n",
    "# getsampwidth: サンプル幅(byte) 2byteなら16bit\n",
    "print(\"sampling width=\", wf.getsampwidth())\n",
    "\n",
    "# getframerate サンプリング周波数\n",
    "print(\"サンプリング周波数（Hz）=\", wf.getframerate())\n",
    "\n",
    "# getparams 各種パラメータ\n",
    "print(\"各種パラメータ=\", wf.getparams())\n",
    "\n",
    "# readframes: 最大 n 個のオーディオフレームを読み込んで、 bytes オブジェクトとして返す\n",
    "buf = wf.readframes(wf.getnframes())\n",
    "# バイナリデータを16bit整数に変換\n",
    "data = np.frombuffer(buf, dtype=\"int16\")\n",
    "plt.plot(data[00000:17000])\n",
    "plt.show()          # グラフ表示\n",
    "\n",
    "p = pyaudio.PyAudio()\n",
    "stream = p.open(format=p.get_format_from_width(wf.getsampwidth()),\n",
    "                channels=wf.getnchannels(),\n",
    "                rate=wf.getframerate(),\n",
    "                output=True) # このストリームに書き込むと音がなる\n",
    "\n",
    "chunk = 1024 # チャンク単位でストリームに出力し音声を再生\n",
    "wf.rewind() # ポインタを先頭にする\n",
    "data = wf.readframes(chunk)\n",
    "while data:\n",
    "    stream.write(data)\n",
    "    data = wf.readframes(chunk)\n",
    "stream.close()\n",
    "p.terminate()"
   ]
  },
  {
   "cell_type": "code",
   "execution_count": null,
   "metadata": {},
   "outputs": [],
   "source": []
  }
 ],
 "metadata": {
  "kernelspec": {
   "display_name": "Python 3",
   "language": "python",
   "name": "python3"
  },
  "language_info": {
   "codemirror_mode": {
    "name": "ipython",
    "version": 3
   },
   "file_extension": ".py",
   "mimetype": "text/x-python",
   "name": "python",
   "nbconvert_exporter": "python",
   "pygments_lexer": "ipython3",
   "version": "3.7.6"
  }
 },
 "nbformat": 4,
 "nbformat_minor": 4
}
